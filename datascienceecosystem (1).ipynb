{
 "cells": [
  {
   "cell_type": "markdown",
   "id": "432cf3b5-2843-47e5-bbb5-df4382d2eaf8",
   "metadata": {},
   "source": [
    "# Data Science Tool And Ecosystem"
   ]
  },
  {
   "cell_type": "markdown",
   "id": "4e6b9c5b-f04b-4129-9871-48b00e4153fe",
   "metadata": {},
   "source": [
    "In this notebook, Data Science Tools and Ecosystem are summarized."
   ]
  },
  {
   "cell_type": "markdown",
   "id": "27f41ad2-d45a-4710-8505-f34e48ebd6b4",
   "metadata": {},
   "source": [
    "**objectives:-**"
   ]
  },
  {
   "cell_type": "markdown",
   "id": "d3928d6f-99a6-437e-8881-3b02538db983",
   "metadata": {},
   "source": [
    "- some of the poplar languages in data scientists\n",
    "- some of the commanly used libraries used by data scientists\n",
    "- data science tools used by data scientists\n",
    "- few example in arithmetic expressions in python \n",
    "- This a simple arithmetic expression to multiply then add integers.\n",
    "- convert 200 minutes to hours by diving by 60."
   ]
  },
  {
   "cell_type": "code",
   "execution_count": null,
   "id": "45afc790-2b50-4608-8935-d923a1dbd396",
   "metadata": {},
   "outputs": [],
   "source": [
    "Some of the popular languages that Data Scientists use are:"
   ]
  },
  {
   "cell_type": "markdown",
   "id": "598f75a3-237c-4c71-ab42-3f228e365a3f",
   "metadata": {},
   "source": [
    "1. Python\n",
    "2. Java \n",
    "3. C++\n",
    "4. R"
   ]
  },
  {
   "cell_type": "code",
   "execution_count": null,
   "id": "3780b65a-08e0-4c15-ad23-38bf2f706b64",
   "metadata": {},
   "outputs": [],
   "source": [
    "Some of the commonly used libraries used by Data Scientists include:"
   ]
  },
  {
   "cell_type": "markdown",
   "id": "96317910-6a77-4146-aff9-b821c48d5671",
   "metadata": {},
   "source": [
    "1. numPy\n",
    "2. pandas\n",
    "3. tensorflow\n",
    "4. Pytorch"
   ]
  },
  {
   "cell_type": "code",
   "execution_count": 30,
   "id": "af26ed69-1ff2-4619-9f92-0dc9672ce852",
   "metadata": {
    "tags": []
   },
   "outputs": [],
   "source": [
    "data science tools used by data scientists"
   ]
  },
  {
   "cell_type": "markdown",
   "id": "126df2f0-df84-4f60-b619-13ed431cf870",
   "metadata": {},
   "source": [
    "|DATA SCIENCE TOOLS|\n",
    "|------------------|\n",
    "| R studio         |\n",
    "| tensorflow       |\n",
    "| apache spark     |"
   ]
  },
  {
   "cell_type": "markdown",
   "id": "8ee74bd8-6e1e-46ac-b844-35e879780f73",
   "metadata": {
    "tags": []
   },
   "source": [
    "### Below are a few examples of evaluating arithmetic expressions in Python"
   ]
  },
  {
   "cell_type": "code",
   "execution_count": 17,
   "id": "3cc7bef4-66dd-433f-965b-d40bc90d0f3a",
   "metadata": {
    "tags": []
   },
   "outputs": [
    {
     "data": {
      "text/plain": [
       "2"
      ]
     },
     "execution_count": 17,
     "metadata": {},
     "output_type": "execute_result"
    }
   ],
   "source": [
    "1+1"
   ]
  },
  {
   "cell_type": "code",
   "execution_count": 18,
   "id": "fb8d7c97-9afe-4c4a-9fc4-f67ecc9751d7",
   "metadata": {
    "tags": []
   },
   "outputs": [
    {
     "data": {
      "text/plain": [
       "35"
      ]
     },
     "execution_count": 18,
     "metadata": {},
     "output_type": "execute_result"
    }
   ],
   "source": [
    "5*7"
   ]
  },
  {
   "cell_type": "code",
   "execution_count": 19,
   "id": "79a43c41-536f-4f5a-b061-e8edf5ace64b",
   "metadata": {
    "tags": []
   },
   "outputs": [
    {
     "data": {
      "text/plain": [
       "97"
      ]
     },
     "execution_count": 19,
     "metadata": {},
     "output_type": "execute_result"
    }
   ],
   "source": [
    "23*4+5\n"
   ]
  },
  {
   "cell_type": "markdown",
   "id": "3e99f96d-8227-434b-a309-30cea46d5812",
   "metadata": {
    "tags": []
   },
   "source": [
    "### This a simple arithmetic expression to multiply then add integers."
   ]
  },
  {
   "cell_type": "code",
   "execution_count": 23,
   "id": "07c8d314-003f-408c-b8ca-1e6b1c84f999",
   "metadata": {
    "tags": []
   },
   "outputs": [
    {
     "data": {
      "text/plain": [
       "17"
      ]
     },
     "execution_count": 23,
     "metadata": {},
     "output_type": "execute_result"
    }
   ],
   "source": [
    "(3*4)+5"
   ]
  },
  {
   "cell_type": "markdown",
   "id": "312a6657-f852-4a70-acbc-0c7be481d1bc",
   "metadata": {},
   "source": [
    "### This will convert 200 minutes to hours by diving by 60."
   ]
  },
  {
   "cell_type": "code",
   "execution_count": 29,
   "id": "60ea3efa-4ff8-4f60-a654-6ce8be15d50e",
   "metadata": {
    "tags": []
   },
   "outputs": [
    {
     "name": "stdout",
     "output_type": "stream",
     "text": [
      "3.0\n"
     ]
    }
   ],
   "source": [
    "min=200\n",
    "h=min//60.\n",
    "m=min%60.\n",
    "print(h)"
   ]
  },
  {
   "cell_type": "markdown",
   "id": "1d00cf71-c3bf-47aa-8ad7-3d578e2f5d87",
   "metadata": {},
   "source": [
    "## author"
   ]
  },
  {
   "cell_type": "code",
   "execution_count": null,
   "id": "17c1adaf-4a70-44cb-b52e-e3db502d3c7b",
   "metadata": {},
   "outputs": [],
   "source": [
    "Prachi gupta"
   ]
  }
 ],
 "metadata": {
  "kernelspec": {
   "display_name": "Python",
   "language": "python",
   "name": "conda-env-python-py"
  },
  "language_info": {
   "codemirror_mode": {
    "name": "ipython",
    "version": 3
   },
   "file_extension": ".py",
   "mimetype": "text/x-python",
   "name": "python",
   "nbconvert_exporter": "python",
   "pygments_lexer": "ipython3",
   "version": "3.7.12"
  }
 },
 "nbformat": 4,
 "nbformat_minor": 5
}
